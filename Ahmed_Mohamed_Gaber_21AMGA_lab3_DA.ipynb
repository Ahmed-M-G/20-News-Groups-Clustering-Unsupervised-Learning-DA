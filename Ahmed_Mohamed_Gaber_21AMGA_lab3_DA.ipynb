{
  "cells": [
    {
      "cell_type": "markdown",
      "metadata": {
        "id": "oTPcX6GnbCIx"
      },
      "source": [
        "#Lab 3: Unsupervised Learning (Advanced Clustering)\n",
        "\n",
        "For this lab we will use Scikit-Learn’s API, sklearn.datasets, which allows us to access a famous dataset for linguistic analysis, the 20newsgroups dataset. A newsgroup is an online user discussion group, such as a forum. Sklearn allows us to access different categories of content. We will use texts that have to do with technology, religion and sport.\n",
        "\n",
        "More details about the dataset: https://scikit-learn.org/0.19/datasets/twenty_newsgroups.html \n",
        "\n",
        "Your task is to perform clustering on the given dataset. \n",
        "\n",
        "**Submission: submit via onq.** \n"
      ]
    },
    {
      "cell_type": "markdown",
      "source": [
        "#Import Libraries"
      ],
      "metadata": {
        "id": "WEaO_3UgcxeJ"
      }
    },
    {
      "cell_type": "code",
      "execution_count": 1,
      "metadata": {
        "id": "iHrW-JujbCI4"
      },
      "outputs": [],
      "source": [
        "# Import needed libraries. E.g., pandas, sklearn, nltk, etc.\n",
        "import pandas as pd\n",
        "import numpy as np\n",
        "#for plots\n",
        "import missingno as msno \n",
        "import seaborn as sns\n",
        "import matplotlib.pyplot as plt\n",
        "import matplotlib as mpl\n",
        "from sklearn.datasets import fetch_20newsgroups\n",
        "\n",
        "#data preprocessing for text\n",
        "import re\n",
        "from nltk.stem.snowball import SnowballStemmer\n",
        "import nltk\n",
        "from nltk.corpus import stopwords\n",
        "from nltk.stem import WordNetLemmatizer\n",
        "\n",
        "#feature extraction from text\n",
        "from sklearn.feature_extraction.text import TfidfVectorizer\n",
        "from sklearn import metrics\n",
        "\n",
        "from sklearn.cluster import KMeans\n",
        "from sklearn.decomposition import TruncatedSVD, PCA\n",
        "from sklearn.preprocessing import Normalizer"
      ]
    },
    {
      "cell_type": "markdown",
      "metadata": {
        "id": "whRhGQphbCI5"
      },
      "source": [
        "#Task 1: Read the dataset and report the basic statistics of the dataset import data from sklearn.datasets and selecte pre-defined categories:\n",
        "\n",
        "from sklearn.datasets import fetch_20newsgroups\n",
        "\n",
        "categories = [\n",
        " 'comp.graphics',\n",
        " 'comp.os.ms-windows.misc',\n",
        " 'rec.sport.baseball',\n",
        " 'rec.sport.hockey',\n",
        " 'alt.atheism',\n",
        "]\n",
        "dataset = fetch_20newsgroups(subset='train', categories=categories, shuffle=True, remove=('headers', 'footers', 'quotes'))\n"
      ]
    },
    {
      "cell_type": "markdown",
      "source": [
        "##Data Reading"
      ],
      "metadata": {
        "id": "SBugdsUgdsOx"
      }
    },
    {
      "cell_type": "code",
      "execution_count": 2,
      "metadata": {
        "id": "BRJBY7-hbCI5"
      },
      "outputs": [],
      "source": [
        "# TODO code for task 1\n",
        "categories = [ 'comp.graphics', 'comp.os.ms-windows.misc', 'rec.sport.baseball', 'rec.sport.hockey', 'alt.atheism', ] \n",
        "dataset = fetch_20newsgroups(subset='train', categories=categories, shuffle=True, remove=('headers', 'footers', 'quotes'))"
      ]
    },
    {
      "cell_type": "markdown",
      "source": [
        "> I will create a new data frame with two column `categories` column and `target` column to help me to make some exploration and basic statistics"
      ],
      "metadata": {
        "id": "ibkFTzdzdU0N"
      }
    },
    {
      "cell_type": "code",
      "source": [
        "#create dataframe\n",
        "df = pd.DataFrame()\n",
        "df['category'] = dataset.data\n",
        "df['Target'] = dataset.target"
      ],
      "metadata": {
        "id": "DGBMK36LdUOE"
      },
      "execution_count": 3,
      "outputs": []
    },
    {
      "cell_type": "markdown",
      "source": [
        "##Data Exploration"
      ],
      "metadata": {
        "id": "7_eVKTgveChV"
      }
    },
    {
      "cell_type": "code",
      "source": [
        "#data information\n",
        "df.info()"
      ],
      "metadata": {
        "colab": {
          "base_uri": "https://localhost:8080/"
        },
        "id": "8FVR93odeEI6",
        "outputId": "7cc05594-49bc-4f87-e7f0-26929f1a445d"
      },
      "execution_count": 4,
      "outputs": [
        {
          "output_type": "stream",
          "name": "stdout",
          "text": [
            "<class 'pandas.core.frame.DataFrame'>\n",
            "RangeIndex: 2852 entries, 0 to 2851\n",
            "Data columns (total 2 columns):\n",
            " #   Column    Non-Null Count  Dtype \n",
            "---  ------    --------------  ----- \n",
            " 0   category  2852 non-null   object\n",
            " 1   Target    2852 non-null   int64 \n",
            "dtypes: int64(1), object(1)\n",
            "memory usage: 44.7+ KB\n"
          ]
        }
      ]
    },
    {
      "cell_type": "code",
      "source": [
        "#data describe\n",
        "df.describe(include='all').transpose()"
      ],
      "metadata": {
        "colab": {
          "base_uri": "https://localhost:8080/",
          "height": 112
        },
        "id": "kCoW8aNoevmV",
        "outputId": "b9c08034-94ef-4371-c8ef-b1fe1a1ef328"
      },
      "execution_count": 5,
      "outputs": [
        {
          "output_type": "execute_result",
          "data": {
            "text/plain": [
              "           count unique  top freq     mean       std  min  25%  50%  75%  max\n",
              "category    2852   2770        61      NaN       NaN  NaN  NaN  NaN  NaN  NaN\n",
              "Target    2852.0    NaN  NaN  NaN  2.08871  1.386227  0.0  1.0  2.0  3.0  4.0"
            ],
            "text/html": [
              "\n",
              "  <div id=\"df-ca6eb33f-855b-42ef-bb7f-69c7386e05fd\">\n",
              "    <div class=\"colab-df-container\">\n",
              "      <div>\n",
              "<style scoped>\n",
              "    .dataframe tbody tr th:only-of-type {\n",
              "        vertical-align: middle;\n",
              "    }\n",
              "\n",
              "    .dataframe tbody tr th {\n",
              "        vertical-align: top;\n",
              "    }\n",
              "\n",
              "    .dataframe thead th {\n",
              "        text-align: right;\n",
              "    }\n",
              "</style>\n",
              "<table border=\"1\" class=\"dataframe\">\n",
              "  <thead>\n",
              "    <tr style=\"text-align: right;\">\n",
              "      <th></th>\n",
              "      <th>count</th>\n",
              "      <th>unique</th>\n",
              "      <th>top</th>\n",
              "      <th>freq</th>\n",
              "      <th>mean</th>\n",
              "      <th>std</th>\n",
              "      <th>min</th>\n",
              "      <th>25%</th>\n",
              "      <th>50%</th>\n",
              "      <th>75%</th>\n",
              "      <th>max</th>\n",
              "    </tr>\n",
              "  </thead>\n",
              "  <tbody>\n",
              "    <tr>\n",
              "      <th>category</th>\n",
              "      <td>2852</td>\n",
              "      <td>2770</td>\n",
              "      <td></td>\n",
              "      <td>61</td>\n",
              "      <td>NaN</td>\n",
              "      <td>NaN</td>\n",
              "      <td>NaN</td>\n",
              "      <td>NaN</td>\n",
              "      <td>NaN</td>\n",
              "      <td>NaN</td>\n",
              "      <td>NaN</td>\n",
              "    </tr>\n",
              "    <tr>\n",
              "      <th>Target</th>\n",
              "      <td>2852.0</td>\n",
              "      <td>NaN</td>\n",
              "      <td>NaN</td>\n",
              "      <td>NaN</td>\n",
              "      <td>2.08871</td>\n",
              "      <td>1.386227</td>\n",
              "      <td>0.0</td>\n",
              "      <td>1.0</td>\n",
              "      <td>2.0</td>\n",
              "      <td>3.0</td>\n",
              "      <td>4.0</td>\n",
              "    </tr>\n",
              "  </tbody>\n",
              "</table>\n",
              "</div>\n",
              "      <button class=\"colab-df-convert\" onclick=\"convertToInteractive('df-ca6eb33f-855b-42ef-bb7f-69c7386e05fd')\"\n",
              "              title=\"Convert this dataframe to an interactive table.\"\n",
              "              style=\"display:none;\">\n",
              "        \n",
              "  <svg xmlns=\"http://www.w3.org/2000/svg\" height=\"24px\"viewBox=\"0 0 24 24\"\n",
              "       width=\"24px\">\n",
              "    <path d=\"M0 0h24v24H0V0z\" fill=\"none\"/>\n",
              "    <path d=\"M18.56 5.44l.94 2.06.94-2.06 2.06-.94-2.06-.94-.94-2.06-.94 2.06-2.06.94zm-11 1L8.5 8.5l.94-2.06 2.06-.94-2.06-.94L8.5 2.5l-.94 2.06-2.06.94zm10 10l.94 2.06.94-2.06 2.06-.94-2.06-.94-.94-2.06-.94 2.06-2.06.94z\"/><path d=\"M17.41 7.96l-1.37-1.37c-.4-.4-.92-.59-1.43-.59-.52 0-1.04.2-1.43.59L10.3 9.45l-7.72 7.72c-.78.78-.78 2.05 0 2.83L4 21.41c.39.39.9.59 1.41.59.51 0 1.02-.2 1.41-.59l7.78-7.78 2.81-2.81c.8-.78.8-2.07 0-2.86zM5.41 20L4 18.59l7.72-7.72 1.47 1.35L5.41 20z\"/>\n",
              "  </svg>\n",
              "      </button>\n",
              "      \n",
              "  <style>\n",
              "    .colab-df-container {\n",
              "      display:flex;\n",
              "      flex-wrap:wrap;\n",
              "      gap: 12px;\n",
              "    }\n",
              "\n",
              "    .colab-df-convert {\n",
              "      background-color: #E8F0FE;\n",
              "      border: none;\n",
              "      border-radius: 50%;\n",
              "      cursor: pointer;\n",
              "      display: none;\n",
              "      fill: #1967D2;\n",
              "      height: 32px;\n",
              "      padding: 0 0 0 0;\n",
              "      width: 32px;\n",
              "    }\n",
              "\n",
              "    .colab-df-convert:hover {\n",
              "      background-color: #E2EBFA;\n",
              "      box-shadow: 0px 1px 2px rgba(60, 64, 67, 0.3), 0px 1px 3px 1px rgba(60, 64, 67, 0.15);\n",
              "      fill: #174EA6;\n",
              "    }\n",
              "\n",
              "    [theme=dark] .colab-df-convert {\n",
              "      background-color: #3B4455;\n",
              "      fill: #D2E3FC;\n",
              "    }\n",
              "\n",
              "    [theme=dark] .colab-df-convert:hover {\n",
              "      background-color: #434B5C;\n",
              "      box-shadow: 0px 1px 3px 1px rgba(0, 0, 0, 0.15);\n",
              "      filter: drop-shadow(0px 1px 2px rgba(0, 0, 0, 0.3));\n",
              "      fill: #FFFFFF;\n",
              "    }\n",
              "  </style>\n",
              "\n",
              "      <script>\n",
              "        const buttonEl =\n",
              "          document.querySelector('#df-ca6eb33f-855b-42ef-bb7f-69c7386e05fd button.colab-df-convert');\n",
              "        buttonEl.style.display =\n",
              "          google.colab.kernel.accessAllowed ? 'block' : 'none';\n",
              "\n",
              "        async function convertToInteractive(key) {\n",
              "          const element = document.querySelector('#df-ca6eb33f-855b-42ef-bb7f-69c7386e05fd');\n",
              "          const dataTable =\n",
              "            await google.colab.kernel.invokeFunction('convertToInteractive',\n",
              "                                                     [key], {});\n",
              "          if (!dataTable) return;\n",
              "\n",
              "          const docLinkHtml = 'Like what you see? Visit the ' +\n",
              "            '<a target=\"_blank\" href=https://colab.research.google.com/notebooks/data_table.ipynb>data table notebook</a>'\n",
              "            + ' to learn more about interactive tables.';\n",
              "          element.innerHTML = '';\n",
              "          dataTable['output_type'] = 'display_data';\n",
              "          await google.colab.output.renderOutput(dataTable, element);\n",
              "          const docLink = document.createElement('div');\n",
              "          docLink.innerHTML = docLinkHtml;\n",
              "          element.appendChild(docLink);\n",
              "        }\n",
              "      </script>\n",
              "    </div>\n",
              "  </div>\n",
              "  "
            ]
          },
          "metadata": {},
          "execution_count": 5
        }
      ]
    },
    {
      "cell_type": "code",
      "source": [
        "#Checking for nulls\n",
        "df.isnull().sum()"
      ],
      "metadata": {
        "colab": {
          "base_uri": "https://localhost:8080/"
        },
        "id": "nEAAzWaZe7LF",
        "outputId": "df41f8d1-0043-4678-91a0-65c5db3dea17"
      },
      "execution_count": 6,
      "outputs": [
        {
          "output_type": "execute_result",
          "data": {
            "text/plain": [
              "category    0\n",
              "Target      0\n",
              "dtype: int64"
            ]
          },
          "metadata": {},
          "execution_count": 6
        }
      ]
    },
    {
      "cell_type": "code",
      "source": [
        "#target column distribution\n",
        "plt.figure(figsize=(15,8))\n",
        "sns.set(palette=\"muted\", color_codes=True)\n",
        "first_15 = sns.barplot(x=df['Target'].value_counts().index, y=df['Target'].value_counts().values)\n",
        "plt.xticks( fontsize=14, fontweight='bold')\n",
        "plt.xlabel('Target', fontsize=16, fontweight='bold')\n",
        "plt.yticks(rotation='0', fontsize=14, fontweight='bold')\n",
        "plt.ylabel('Count', rotation=0, ha='right', fontsize=14, fontweight='bold')\n",
        "\n",
        "for patch in first_15.patches:\n",
        "  first_15.annotate(\"%.0f\" % patch.get_height(), (patch.get_x() + patch.get_width() / 2., patch.get_height()), ha='center', va='center', fontsize=14, fontweight='bold', color='black', xytext=(0, 5), textcoords='offset points')\n",
        "plt.show()"
      ],
      "metadata": {
        "colab": {
          "base_uri": "https://localhost:8080/",
          "height": 508
        },
        "id": "9iQOp2-HfPwn",
        "outputId": "5d0663cb-c639-46ad-e486-41ecaa9a4d61"
      },
      "execution_count": 7,
      "outputs": [
        {
          "output_type": "display_data",
          "data": {
            "text/plain": [
              "<Figure size 1080x576 with 1 Axes>"
            ],
            "image/png": "[encoded data removed]"
          },
          "metadata": {
            "needs_background": "light"
          }
        }
      ]
    },
    {
      "cell_type": "code",
      "source": [
        "#explsion\n",
        "explode = (0.1,0.1,0.1,0.1,0.1)\n",
        "# Pie chart\n",
        "df['Target'].value_counts().plot.pie(radius = 3.5, autopct='%.0f%%', pctdistance=0.7, explode = explode, textprops={'fontsize': 15})\n",
        "#draw circle\n",
        "fig = plt.gcf()\n",
        "# Equal aspect ratio ensures that pie is drawn as a circle\n",
        "plt.tight_layout()\n",
        "plt.show()"
      ],
      "metadata": {
        "colab": {
          "base_uri": "https://localhost:8080/",
          "height": 737
        },
        "id": "HGy_Z6rVgikq",
        "outputId": "f699a47c-92ae-439f-b06f-eb40940489e3"
      },
      "execution_count": 8,
      "outputs": [
        {
          "output_type": "stream",
          "name": "stderr",
          "text": [
            "/usr/local/lib/python3.7/dist-packages/ipykernel_launcher.py:8: UserWarning: Tight layout not applied. The bottom and top margins cannot be made large enough to accommodate all axes decorations. \n",
            "  \n"
          ]
        },
        {
          "output_type": "display_data",
          "data": {
            "text/plain": [
              "<Figure size 432x288 with 1 Axes>"
            ],
            "image/png": "[encoded data removed]"
          },
          "metadata": {}
        }
      ]
    },
    {
      "cell_type": "markdown",
      "metadata": {
        "id": "bNj_1grMbCI5"
      },
      "source": [
        "#Task 2: Data cleaning. Use standard text preprocessing steps to preprocess raw textual content. A sample preprocessing function is provided as below."
      ]
    },
    {
      "cell_type": "code",
      "source": [
        "# Downloading some packages\n",
        "nltk.download(\"stopwords\")\n",
        "stopwords_ = stopwords.words('english')\n",
        "nltk.download('punkt')"
      ],
      "metadata": {
        "colab": {
          "base_uri": "https://localhost:8080/"
        },
        "id": "jnvXnFPNkZrG",
        "outputId": "86194475-f5ca-4d1d-cd8e-7cf404875996"
      },
      "execution_count": 9,
      "outputs": [
        {
          "output_type": "stream",
          "name": "stdout",
          "text": [
            "[nltk_data] Downloading package stopwords to /root/nltk_data...\n",
            "[nltk_data]   Package stopwords is already up-to-date!\n",
            "[nltk_data] Downloading package punkt to /root/nltk_data...\n",
            "[nltk_data]   Package punkt is already up-to-date!\n"
          ]
        },
        {
          "output_type": "execute_result",
          "data": {
            "text/plain": [
              "True"
            ]
          },
          "metadata": {},
          "execution_count": 9
        }
      ]
    },
    {
      "cell_type": "code",
      "execution_count": 10,
      "metadata": {
        "id": "E2bvc4BubCI6"
      },
      "outputs": [],
      "source": [
        "#Text cleaning\n",
        "stemmer = WordNetLemmatizer()\n",
        "stemmer = SnowballStemmer(language='english')\n",
        "def preprocess_text(text):\n",
        "    text = text.lower()\n",
        "    # remove links\n",
        "    text = re.sub(r\"http\\S+\", \" \", text)\n",
        "    #remove any html tags (< /br> often found)\n",
        "    text = re.sub(r\"<[^>]+>\", \" \", text)\n",
        "    #convert all whitespaces (tabs etc.) to single wspace\n",
        "    text = re.sub(r\"\\s+\", \" \", text)\n",
        "    #   # remove special chars and numbers\n",
        "    text = re.sub(r\"\\b[A-Za-z]\\b\", \" \", text)\n",
        "    text = re.sub(r\"[^\\w]\", \" \", text)\n",
        "    text = text.split()\n",
        "    text = [stemmer.stem(word) for word in text if not word in set(stopwords_)]\n",
        "    text = ' '.join(text)\n",
        "    return text"
      ]
    },
    {
      "cell_type": "code",
      "source": [
        "%%time\n",
        "#apply the preprocess_text Function on text column and create a new column called clean_text column\n",
        "df['clean_text'] = df['category'].apply(preprocess_text)"
      ],
      "metadata": {
        "colab": {
          "base_uri": "https://localhost:8080/"
        },
        "id": "3o9ssylNk_Dj",
        "outputId": "9309801e-fb49-4790-d501-9b96b41d620e"
      },
      "execution_count": 11,
      "outputs": [
        {
          "output_type": "stream",
          "name": "stdout",
          "text": [
            "CPU times: user 11.5 s, sys: 57.7 ms, total: 11.5 s\n",
            "Wall time: 14.9 s\n"
          ]
        }
      ]
    },
    {
      "cell_type": "code",
      "source": [
        "df['clean_text'][0]"
      ],
      "metadata": {
        "colab": {
          "base_uri": "https://localhost:8080/",
          "height": 35
        },
        "id": "oSPXpJaklG-r",
        "outputId": "de8e4fd4-456d-44b3-c869-1244c20ca509"
      },
      "execution_count": 12,
      "outputs": [
        {
          "output_type": "execute_result",
          "data": {
            "text/plain": [
              "'move borland 3 0 visual today tri compil program complain function prototyp problem turn typedef word ms byte unsign int could anyon shine light subject word byte ming lin'"
            ],
            "application/vnd.google.colaboratory.intrinsic+json": {
              "type": "string"
            }
          },
          "metadata": {},
          "execution_count": 12
        }
      ]
    },
    {
      "cell_type": "code",
      "source": [
        "df.head()"
      ],
      "metadata": {
        "colab": {
          "base_uri": "https://localhost:8080/",
          "height": 206
        },
        "id": "4qqrwaSSlDjE",
        "outputId": "603b5648-e690-4ef9-8b2f-5ebfb8684215"
      },
      "execution_count": 13,
      "outputs": [
        {
          "output_type": "execute_result",
          "data": {
            "text/plain": [
              "                                            category  Target  \\\n",
              "0  I just moved from Borland C++ 3.0 to Visual C+...       2   \n",
              "1  \\n: \\tNice cop out bill.\\n\\nI'm sure you're ri...       0   \n",
              "2  I'm attempting to transfer files from my home ...       2   \n",
              "3  \\nThen not murdering would have no moral signi...       0   \n",
              "4  \\nI could give much the same testimonial about...       0   \n",
              "\n",
              "                                          clean_text  \n",
              "0  move borland 3 0 visual today tri compil progr...  \n",
              "1  nice cop bill sure right idea refer would mind...  \n",
              "2  attempt transfer file home comput run window 3...  \n",
              "3  murder would moral signific sinc would noth vo...  \n",
              "4  could give much testimoni experi scout back 19...  "
            ],
            "text/html": [
              "\n",
              "  <div id=\"df-ce97d804-2c49-409f-a997-2bc5126c7918\">\n",
              "    <div class=\"colab-df-container\">\n",
              "      <div>\n",
              "<style scoped>\n",
              "    .dataframe tbody tr th:only-of-type {\n",
              "        vertical-align: middle;\n",
              "    }\n",
              "\n",
              "    .dataframe tbody tr th {\n",
              "        vertical-align: top;\n",
              "    }\n",
              "\n",
              "    .dataframe thead th {\n",
              "        text-align: right;\n",
              "    }\n",
              "</style>\n",
              "<table border=\"1\" class=\"dataframe\">\n",
              "  <thead>\n",
              "    <tr style=\"text-align: right;\">\n",
              "      <th></th>\n",
              "      <th>category</th>\n",
              "      <th>Target</th>\n",
              "      <th>clean_text</th>\n",
              "    </tr>\n",
              "  </thead>\n",
              "  <tbody>\n",
              "    <tr>\n",
              "      <th>0</th>\n",
              "      <td>I just moved from Borland C++ 3.0 to Visual C+...</td>\n",
              "      <td>2</td>\n",
              "      <td>move borland 3 0 visual today tri compil progr...</td>\n",
              "    </tr>\n",
              "    <tr>\n",
              "      <th>1</th>\n",
              "      <td>\\n: \\tNice cop out bill.\\n\\nI'm sure you're ri...</td>\n",
              "      <td>0</td>\n",
              "      <td>nice cop bill sure right idea refer would mind...</td>\n",
              "    </tr>\n",
              "    <tr>\n",
              "      <th>2</th>\n",
              "      <td>I'm attempting to transfer files from my home ...</td>\n",
              "      <td>2</td>\n",
              "      <td>attempt transfer file home comput run window 3...</td>\n",
              "    </tr>\n",
              "    <tr>\n",
              "      <th>3</th>\n",
              "      <td>\\nThen not murdering would have no moral signi...</td>\n",
              "      <td>0</td>\n",
              "      <td>murder would moral signific sinc would noth vo...</td>\n",
              "    </tr>\n",
              "    <tr>\n",
              "      <th>4</th>\n",
              "      <td>\\nI could give much the same testimonial about...</td>\n",
              "      <td>0</td>\n",
              "      <td>could give much testimoni experi scout back 19...</td>\n",
              "    </tr>\n",
              "  </tbody>\n",
              "</table>\n",
              "</div>\n",
              "      <button class=\"colab-df-convert\" onclick=\"convertToInteractive('df-ce97d804-2c49-409f-a997-2bc5126c7918')\"\n",
              "              title=\"Convert this dataframe to an interactive table.\"\n",
              "              style=\"display:none;\">\n",
              "        \n",
              "  <svg xmlns=\"http://www.w3.org/2000/svg\" height=\"24px\"viewBox=\"0 0 24 24\"\n",
              "       width=\"24px\">\n",
              "    <path d=\"M0 0h24v24H0V0z\" fill=\"none\"/>\n",
              "    <path d=\"M18.56 5.44l.94 2.06.94-2.06 2.06-.94-2.06-.94-.94-2.06-.94 2.06-2.06.94zm-11 1L8.5 8.5l.94-2.06 2.06-.94-2.06-.94L8.5 2.5l-.94 2.06-2.06.94zm10 10l.94 2.06.94-2.06 2.06-.94-2.06-.94-.94-2.06-.94 2.06-2.06.94z\"/><path d=\"M17.41 7.96l-1.37-1.37c-.4-.4-.92-.59-1.43-.59-.52 0-1.04.2-1.43.59L10.3 9.45l-7.72 7.72c-.78.78-.78 2.05 0 2.83L4 21.41c.39.39.9.59 1.41.59.51 0 1.02-.2 1.41-.59l7.78-7.78 2.81-2.81c.8-.78.8-2.07 0-2.86zM5.41 20L4 18.59l7.72-7.72 1.47 1.35L5.41 20z\"/>\n",
              "  </svg>\n",
              "      </button>\n",
              "      \n",
              "  <style>\n",
              "    .colab-df-container {\n",
              "      display:flex;\n",
              "      flex-wrap:wrap;\n",
              "      gap: 12px;\n",
              "    }\n",
              "\n",
              "    .colab-df-convert {\n",
              "      background-color: #E8F0FE;\n",
              "      border: none;\n",
              "      border-radius: 50%;\n",
              "      cursor: pointer;\n",
              "      display: none;\n",
              "      fill: #1967D2;\n",
              "      height: 32px;\n",
              "      padding: 0 0 0 0;\n",
              "      width: 32px;\n",
              "    }\n",
              "\n",
              "    .colab-df-convert:hover {\n",
              "      background-color: #E2EBFA;\n",
              "      box-shadow: 0px 1px 2px rgba(60, 64, 67, 0.3), 0px 1px 3px 1px rgba(60, 64, 67, 0.15);\n",
              "      fill: #174EA6;\n",
              "    }\n",
              "\n",
              "    [theme=dark] .colab-df-convert {\n",
              "      background-color: #3B4455;\n",
              "      fill: #D2E3FC;\n",
              "    }\n",
              "\n",
              "    [theme=dark] .colab-df-convert:hover {\n",
              "      background-color: #434B5C;\n",
              "      box-shadow: 0px 1px 3px 1px rgba(0, 0, 0, 0.15);\n",
              "      filter: drop-shadow(0px 1px 2px rgba(0, 0, 0, 0.3));\n",
              "      fill: #FFFFFF;\n",
              "    }\n",
              "  </style>\n",
              "\n",
              "      <script>\n",
              "        const buttonEl =\n",
              "          document.querySelector('#df-ce97d804-2c49-409f-a997-2bc5126c7918 button.colab-df-convert');\n",
              "        buttonEl.style.display =\n",
              "          google.colab.kernel.accessAllowed ? 'block' : 'none';\n",
              "\n",
              "        async function convertToInteractive(key) {\n",
              "          const element = document.querySelector('#df-ce97d804-2c49-409f-a997-2bc5126c7918');\n",
              "          const dataTable =\n",
              "            await google.colab.kernel.invokeFunction('convertToInteractive',\n",
              "                                                     [key], {});\n",
              "          if (!dataTable) return;\n",
              "\n",
              "          const docLinkHtml = 'Like what you see? Visit the ' +\n",
              "            '<a target=\"_blank\" href=https://colab.research.google.com/notebooks/data_table.ipynb>data table notebook</a>'\n",
              "            + ' to learn more about interactive tables.';\n",
              "          element.innerHTML = '';\n",
              "          dataTable['output_type'] = 'display_data';\n",
              "          await google.colab.output.renderOutput(dataTable, element);\n",
              "          const docLink = document.createElement('div');\n",
              "          docLink.innerHTML = docLinkHtml;\n",
              "          element.appendChild(docLink);\n",
              "        }\n",
              "      </script>\n",
              "    </div>\n",
              "  </div>\n",
              "  "
            ]
          },
          "metadata": {},
          "execution_count": 13
        }
      ]
    },
    {
      "cell_type": "markdown",
      "metadata": {
        "id": "eZp1Kcw_bCI6"
      },
      "source": [
        "#Task 3: create vector representation of each document using TF-IDF encoding, if we don't know what is TF-IDF encoding, \n",
        "read this: https://melaniewalsh.github.io/Intro-Cultural-Analytics/05-Text-Analysis/03-TF-IDF-Scikit-Learn.html "
      ]
    },
    {
      "cell_type": "code",
      "execution_count": 14,
      "metadata": {
        "id": "kHISuHHqbCI6"
      },
      "outputs": [],
      "source": [
        "# TODO code for task 3, hint, you can use TfidfVectorizer from sklearn\n",
        "tfidf=TfidfVectorizer(use_idf=True, stop_words='english', max_df=0.8, min_df=5)\n",
        "result = tfidf.fit_transform(df[\"clean_text\"])"
      ]
    },
    {
      "cell_type": "code",
      "source": [
        "# get the first vector out (for the first document) \n",
        "first_vector_tfidfvectorizer=result[0] \n",
        "# place tf-idf values in a pandas data frame \n",
        "df_ = pd.DataFrame(first_vector_tfidfvectorizer.T.todense(), index=tfidf.get_feature_names(), columns=[\"tfidf\"]) \n",
        "df_.sort_values(by=[\"tfidf\"],ascending=False)"
      ],
      "metadata": {
        "colab": {
          "base_uri": "https://localhost:8080/",
          "height": 478
        },
        "id": "Wlb7aXkaoBbg",
        "outputId": "dfcab9bb-1988-41ec-d316-8eb032e71cb4"
      },
      "execution_count": 15,
      "outputs": [
        {
          "output_type": "stream",
          "name": "stderr",
          "text": [
            "/usr/local/lib/python3.7/dist-packages/sklearn/utils/deprecation.py:87: FutureWarning: Function get_feature_names is deprecated; get_feature_names is deprecated in 1.0 and will be removed in 1.2. Please use get_feature_names_out instead.\n",
            "  warnings.warn(msg, category=FutureWarning)\n"
          ]
        },
        {
          "output_type": "execute_result",
          "data": {
            "text/plain": [
              "                tfidf\n",
              "byte         0.441271\n",
              "word         0.326549\n",
              "prototyp     0.282834\n",
              "int          0.266827\n",
              "shine        0.262668\n",
              "...               ...\n",
              "distinguish  0.000000\n",
              "distinct     0.000000\n",
              "distant      0.000000\n",
              "distanc      0.000000\n",
              "zubov        0.000000\n",
              "\n",
              "[5238 rows x 1 columns]"
            ],
            "text/html": [
              "\n",
              "  <div id=\"df-7570c37a-0c1d-4eaf-92d5-2341b7623a36\">\n",
              "    <div class=\"colab-df-container\">\n",
              "      <div>\n",
              "<style scoped>\n",
              "    .dataframe tbody tr th:only-of-type {\n",
              "        vertical-align: middle;\n",
              "    }\n",
              "\n",
              "    .dataframe tbody tr th {\n",
              "        vertical-align: top;\n",
              "    }\n",
              "\n",
              "    .dataframe thead th {\n",
              "        text-align: right;\n",
              "    }\n",
              "</style>\n",
              "<table border=\"1\" class=\"dataframe\">\n",
              "  <thead>\n",
              "    <tr style=\"text-align: right;\">\n",
              "      <th></th>\n",
              "      <th>tfidf</th>\n",
              "    </tr>\n",
              "  </thead>\n",
              "  <tbody>\n",
              "    <tr>\n",
              "      <th>byte</th>\n",
              "      <td>0.441271</td>\n",
              "    </tr>\n",
              "    <tr>\n",
              "      <th>word</th>\n",
              "      <td>0.326549</td>\n",
              "    </tr>\n",
              "    <tr>\n",
              "      <th>prototyp</th>\n",
              "      <td>0.282834</td>\n",
              "    </tr>\n",
              "    <tr>\n",
              "      <th>int</th>\n",
              "      <td>0.266827</td>\n",
              "    </tr>\n",
              "    <tr>\n",
              "      <th>shine</th>\n",
              "      <td>0.262668</td>\n",
              "    </tr>\n",
              "    <tr>\n",
              "      <th>...</th>\n",
              "      <td>...</td>\n",
              "    </tr>\n",
              "    <tr>\n",
              "      <th>distinguish</th>\n",
              "      <td>0.000000</td>\n",
              "    </tr>\n",
              "    <tr>\n",
              "      <th>distinct</th>\n",
              "      <td>0.000000</td>\n",
              "    </tr>\n",
              "    <tr>\n",
              "      <th>distant</th>\n",
              "      <td>0.000000</td>\n",
              "    </tr>\n",
              "    <tr>\n",
              "      <th>distanc</th>\n",
              "      <td>0.000000</td>\n",
              "    </tr>\n",
              "    <tr>\n",
              "      <th>zubov</th>\n",
              "      <td>0.000000</td>\n",
              "    </tr>\n",
              "  </tbody>\n",
              "</table>\n",
              "<p>5238 rows × 1 columns</p>\n",
              "</div>\n",
              "      <button class=\"colab-df-convert\" onclick=\"convertToInteractive('df-7570c37a-0c1d-4eaf-92d5-2341b7623a36')\"\n",
              "              title=\"Convert this dataframe to an interactive table.\"\n",
              "              style=\"display:none;\">\n",
              "        \n",
              "  <svg xmlns=\"http://www.w3.org/2000/svg\" height=\"24px\"viewBox=\"0 0 24 24\"\n",
              "       width=\"24px\">\n",
              "    <path d=\"M0 0h24v24H0V0z\" fill=\"none\"/>\n",
              "    <path d=\"M18.56 5.44l.94 2.06.94-2.06 2.06-.94-2.06-.94-.94-2.06-.94 2.06-2.06.94zm-11 1L8.5 8.5l.94-2.06 2.06-.94-2.06-.94L8.5 2.5l-.94 2.06-2.06.94zm10 10l.94 2.06.94-2.06 2.06-.94-2.06-.94-.94-2.06-.94 2.06-2.06.94z\"/><path d=\"M17.41 7.96l-1.37-1.37c-.4-.4-.92-.59-1.43-.59-.52 0-1.04.2-1.43.59L10.3 9.45l-7.72 7.72c-.78.78-.78 2.05 0 2.83L4 21.41c.39.39.9.59 1.41.59.51 0 1.02-.2 1.41-.59l7.78-7.78 2.81-2.81c.8-.78.8-2.07 0-2.86zM5.41 20L4 18.59l7.72-7.72 1.47 1.35L5.41 20z\"/>\n",
              "  </svg>\n",
              "      </button>\n",
              "      \n",
              "  <style>\n",
              "    .colab-df-container {\n",
              "      display:flex;\n",
              "      flex-wrap:wrap;\n",
              "      gap: 12px;\n",
              "    }\n",
              "\n",
              "    .colab-df-convert {\n",
              "      background-color: #E8F0FE;\n",
              "      border: none;\n",
              "      border-radius: 50%;\n",
              "      cursor: pointer;\n",
              "      display: none;\n",
              "      fill: #1967D2;\n",
              "      height: 32px;\n",
              "      padding: 0 0 0 0;\n",
              "      width: 32px;\n",
              "    }\n",
              "\n",
              "    .colab-df-convert:hover {\n",
              "      background-color: #E2EBFA;\n",
              "      box-shadow: 0px 1px 2px rgba(60, 64, 67, 0.3), 0px 1px 3px 1px rgba(60, 64, 67, 0.15);\n",
              "      fill: #174EA6;\n",
              "    }\n",
              "\n",
              "    [theme=dark] .colab-df-convert {\n",
              "      background-color: #3B4455;\n",
              "      fill: #D2E3FC;\n",
              "    }\n",
              "\n",
              "    [theme=dark] .colab-df-convert:hover {\n",
              "      background-color: #434B5C;\n",
              "      box-shadow: 0px 1px 3px 1px rgba(0, 0, 0, 0.15);\n",
              "      filter: drop-shadow(0px 1px 2px rgba(0, 0, 0, 0.3));\n",
              "      fill: #FFFFFF;\n",
              "    }\n",
              "  </style>\n",
              "\n",
              "      <script>\n",
              "        const buttonEl =\n",
              "          document.querySelector('#df-7570c37a-0c1d-4eaf-92d5-2341b7623a36 button.colab-df-convert');\n",
              "        buttonEl.style.display =\n",
              "          google.colab.kernel.accessAllowed ? 'block' : 'none';\n",
              "\n",
              "        async function convertToInteractive(key) {\n",
              "          const element = document.querySelector('#df-7570c37a-0c1d-4eaf-92d5-2341b7623a36');\n",
              "          const dataTable =\n",
              "            await google.colab.kernel.invokeFunction('convertToInteractive',\n",
              "                                                     [key], {});\n",
              "          if (!dataTable) return;\n",
              "\n",
              "          const docLinkHtml = 'Like what you see? Visit the ' +\n",
              "            '<a target=\"_blank\" href=https://colab.research.google.com/notebooks/data_table.ipynb>data table notebook</a>'\n",
              "            + ' to learn more about interactive tables.';\n",
              "          element.innerHTML = '';\n",
              "          dataTable['output_type'] = 'display_data';\n",
              "          await google.colab.output.renderOutput(dataTable, element);\n",
              "          const docLink = document.createElement('div');\n",
              "          docLink.innerHTML = docLinkHtml;\n",
              "          element.appendChild(docLink);\n",
              "        }\n",
              "      </script>\n",
              "    </div>\n",
              "  </div>\n",
              "  "
            ]
          },
          "metadata": {},
          "execution_count": 15
        }
      ]
    },
    {
      "cell_type": "markdown",
      "metadata": {
        "id": "q9lY1pvPbCI6"
      },
      "source": [
        "#Task 4: Apply Kmeans and Kmeans++ on the above extracted document vectors. Brifely describe how would you select the value of k. \n",
        "You can use https://scikit-learn.org/stable/modules/generated/sklearn.cluster.k_means.html#sklearn.cluster.k_means "
      ]
    },
    {
      "cell_type": "markdown",
      "source": [
        "> We can select the value of `K` by using two ways\n",
        "\n",
        "> First Way\n",
        "- As we know, We have 5 categories = `[\n",
        " 'comp.graphics',\n",
        " 'comp.os.ms-windows.misc',\n",
        " 'rec.sport.baseball',\n",
        " 'rec.sport.hockey',\n",
        " 'alt.atheism']`, \n",
        " So we can choose `K` with\n",
        "  - `5` for each category from above categories\n",
        "  - `3` for each topic `[comp, sport, alt]`\n",
        "\n",
        "> Second Way\n",
        "- by using `Elbow` Method"
      ],
      "metadata": {
        "id": "tN6fmMKFRSkn"
      }
    },
    {
      "cell_type": "markdown",
      "source": [
        "> In this models I will use `K = 5`"
      ],
      "metadata": {
        "id": "DVPySG1evam5"
      }
    },
    {
      "cell_type": "code",
      "execution_count": 16,
      "metadata": {
        "id": "YyqVNqTfbCI7"
      },
      "outputs": [],
      "source": [
        "# TODO code for Task 4. Note, you just need to change init parameter to swtich between random intilization and k-means++ initialization. \n",
        "#init{‘k-means++’, ‘random’}, callable or array-like of shape (n_clusters, n_features), default=’k-means++’"
      ]
    },
    {
      "cell_type": "markdown",
      "source": [
        "##KMeans"
      ],
      "metadata": {
        "id": "lTWRRz3U1P0P"
      }
    },
    {
      "cell_type": "code",
      "execution_count": 17,
      "metadata": {
        "id": "MN23JJ6JMBJX",
        "colab": {
          "base_uri": "https://localhost:8080/"
        },
        "outputId": "0ae97a05-f26f-44c2-d574-71540dcca309"
      },
      "outputs": [
        {
          "output_type": "execute_result",
          "data": {
            "text/plain": [
              "KMeans(init='random', n_clusters=5, tol=1.0)"
            ]
          },
          "metadata": {},
          "execution_count": 17
        }
      ],
      "source": [
        "#create Kmeans object with 5 clusters \n",
        "KM = KMeans(n_clusters = 5, init = 'random', n_init = 10, max_iter = 300, tol = 1e-0)\n",
        "KM.fit(result)"
      ]
    },
    {
      "cell_type": "code",
      "source": [
        "print('The lowest SSE value')\n",
        "print(KM.inertia_, '\\n=====================================================')\n",
        "# Final locations of the centroid\n",
        "print('Final locations of the centroid')\n",
        "print(KM.cluster_centers_, '\\n=====================================================')\n",
        "# The number of iterations required to converge\n",
        "print('The number of iterations required to converge')\n",
        "print(KM.n_iter_, '\\n=====================================================')\n",
        "# first five predicted labels\n",
        "print('first five predicted labels')\n",
        "print(KM.labels_[:5], '\\n=====================================================')"
      ],
      "metadata": {
        "colab": {
          "base_uri": "https://localhost:8080/"
        },
        "id": "25sBxZi-1zOV",
        "outputId": "fb186a6a-027d-4ccb-971b-cf8fbe12ab7d"
      },
      "execution_count": 18,
      "outputs": [
        {
          "output_type": "stream",
          "name": "stdout",
          "text": [
            "The lowest SSE value\n",
            "2648.054303587778 \n",
            "=====================================================\n",
            "Final locations of the centroid\n",
            "[[0.00000000e+00 6.93571596e-04 5.40445215e-04 ... 0.00000000e+00\n",
            "  0.00000000e+00 0.00000000e+00]\n",
            " [2.15916570e-03 1.14535352e-04 8.29712758e-05 ... 0.00000000e+00\n",
            "  0.00000000e+00 0.00000000e+00]\n",
            " [2.28488915e-03 1.45298054e-03 8.30076900e-04 ... 0.00000000e+00\n",
            "  0.00000000e+00 0.00000000e+00]\n",
            " [2.98617461e-03 4.33563102e-03 5.02773860e-04 ... 0.00000000e+00\n",
            "  0.00000000e+00 1.54531303e-03]\n",
            " [3.89094382e-03 3.20285248e-03 2.13265219e-03 ... 1.63020465e-04\n",
            "  7.64450569e-05 7.72746484e-05]] \n",
            "=====================================================\n",
            "The number of iterations required to converge\n",
            "9 \n",
            "=====================================================\n",
            "first five predicted labels\n",
            "[4 4 1 0 4] \n",
            "=====================================================\n"
          ]
        }
      ]
    },
    {
      "cell_type": "code",
      "source": [
        "print(\"Homogeneity: %0.3f\" % metrics.homogeneity_score(df['Target'], KM.labels_), '\\n=====================================================')\n",
        "print(\"Completeness: %0.3f\" % metrics.completeness_score(df['Target'], KM.labels_), '\\n=====================================================')\n",
        "print(\"V-measure: %0.3f\" % metrics.v_measure_score(df['Target'], KM.labels_), '\\n=====================================================')\n",
        "print(\"Adjusted Rand-Index: %.3f\" % metrics.adjusted_rand_score(df['Target'], KM.labels_), '\\n=====================================================')\n",
        "print(\"Silhouette Coefficient: %0.3f\" % metrics.silhouette_score(result, KM.labels_, sample_size=1000), '\\n=====================================================')\n",
        "print(\"mutual_info_score: %0.3f\" % metrics.mutual_info_score(df['Target'], KM.labels_), '\\n=====================================================')"
      ],
      "metadata": {
        "colab": {
          "base_uri": "https://localhost:8080/"
        },
        "id": "XQDr3u5N7uuk",
        "outputId": "078f6b05-cfa8-456c-8bf0-828b5bbb48ba"
      },
      "execution_count": 19,
      "outputs": [
        {
          "output_type": "stream",
          "name": "stdout",
          "text": [
            "Homogeneity: 0.395 \n",
            "=====================================================\n",
            "Completeness: 0.423 \n",
            "=====================================================\n",
            "V-measure: 0.408 \n",
            "=====================================================\n",
            "Adjusted Rand-Index: 0.247 \n",
            "=====================================================\n",
            "Silhouette Coefficient: 0.006 \n",
            "=====================================================\n",
            "mutual_info_score: 0.634 \n",
            "=====================================================\n"
          ]
        }
      ]
    },
    {
      "cell_type": "markdown",
      "source": [
        "##KMeans++"
      ],
      "metadata": {
        "id": "nPil71DUIOZt"
      }
    },
    {
      "cell_type": "code",
      "execution_count": 20,
      "metadata": {
        "colab": {
          "base_uri": "https://localhost:8080/"
        },
        "outputId": "518fa062-4ecf-4c23-908a-49246d19b652",
        "id": "3zyRxiQ7IOZu"
      },
      "outputs": [
        {
          "output_type": "execute_result",
          "data": {
            "text/plain": [
              "KMeans(n_clusters=5, tol=1.0)"
            ]
          },
          "metadata": {},
          "execution_count": 20
        }
      ],
      "source": [
        "#create Kmeans++ object with 5 clusters \n",
        "KM_plus = KMeans(n_clusters = 5, init = 'k-means++', n_init = 10, max_iter = 300, tol = 1e-0)\n",
        "KM_plus.fit(result)"
      ]
    },
    {
      "cell_type": "code",
      "source": [
        "print('The lowest SSE value')\n",
        "print(KM_plus.inertia_, '\\n=====================================================')\n",
        "# Final locations of the centroid\n",
        "print('Final locations of the centroid')\n",
        "print(KM_plus.cluster_centers_, '\\n=====================================================')\n",
        "# The number of iterations required to converge\n",
        "print('The number of iterations required to converge')\n",
        "print(KM_plus.n_iter_, '\\n=====================================================')\n",
        "# first five predicted labels\n",
        "print('first five predicted labels')\n",
        "print(KM_plus.labels_[:5], '\\n=====================================================')"
      ],
      "metadata": {
        "colab": {
          "base_uri": "https://localhost:8080/"
        },
        "outputId": "30070a38-cb79-43ff-e93e-300c8c8e83b6",
        "id": "FMSW32gNIOZu"
      },
      "execution_count": 21,
      "outputs": [
        {
          "output_type": "stream",
          "name": "stdout",
          "text": [
            "The lowest SSE value\n",
            "2646.8370557270246 \n",
            "=====================================================\n",
            "Final locations of the centroid\n",
            "[[3.37358460e-03 2.99245112e-03 2.11137786e-03 ... 1.39768131e-04\n",
            "  6.55413582e-05 0.00000000e+00]\n",
            " [3.53091938e-03 1.20008656e-03 7.92788368e-05 ... 0.00000000e+00\n",
            "  0.00000000e+00 0.00000000e+00]\n",
            " [0.00000000e+00 4.52173832e-04 0.00000000e+00 ... 0.00000000e+00\n",
            "  0.00000000e+00 0.00000000e+00]\n",
            " [4.51227511e-04 1.15382603e-04 8.43856355e-04 ... 0.00000000e+00\n",
            "  0.00000000e+00 0.00000000e+00]\n",
            " [3.35427584e-03 4.06045939e-03 4.70864064e-04 ... 0.00000000e+00\n",
            "  0.00000000e+00 1.57881810e-03]] \n",
            "=====================================================\n",
            "The number of iterations required to converge\n",
            "11 \n",
            "=====================================================\n",
            "first five predicted labels\n",
            "[0 0 3 2 0] \n",
            "=====================================================\n"
          ]
        }
      ]
    },
    {
      "cell_type": "code",
      "source": [
        "print(\"Homogeneity: %0.3f\" % metrics.homogeneity_score(df['Target'], KM_plus.labels_), '\\n=====================================================')\n",
        "print(\"Completeness: %0.3f\" % metrics.completeness_score(df['Target'], KM_plus.labels_), '\\n=====================================================')\n",
        "print(\"V-measure: %0.3f\" % metrics.v_measure_score(df['Target'], KM_plus.labels_), '\\n=====================================================')\n",
        "print(\"Adjusted Rand-Index: %.3f\" % metrics.adjusted_rand_score(df['Target'], KM_plus.labels_), '\\n=====================================================')\n",
        "print(\"Silhouette Coefficient: %0.3f\" % metrics.silhouette_score(result, KM_plus.labels_, sample_size=1000), '\\n=====================================================')\n",
        "print(\"mutual_info_score: %0.3f\" % metrics.mutual_info_score(df['Target'], KM_plus.labels_), '\\n=====================================================')"
      ],
      "metadata": {
        "colab": {
          "base_uri": "https://localhost:8080/"
        },
        "outputId": "5971dfef-0839-4730-ed25-834f563965a4",
        "id": "EaBcGlo6IOZu"
      },
      "execution_count": 22,
      "outputs": [
        {
          "output_type": "stream",
          "name": "stdout",
          "text": [
            "Homogeneity: 0.368 \n",
            "=====================================================\n",
            "Completeness: 0.420 \n",
            "=====================================================\n",
            "V-measure: 0.393 \n",
            "=====================================================\n",
            "Adjusted Rand-Index: 0.198 \n",
            "=====================================================\n",
            "Silhouette Coefficient: 0.009 \n",
            "=====================================================\n",
            "mutual_info_score: 0.592 \n",
            "=====================================================\n"
          ]
        }
      ]
    },
    {
      "cell_type": "markdown",
      "metadata": {
        "id": "s4OR_XcDbCI7"
      },
      "source": [
        "#Task 5: perform tricks on the above two approaches by considering the high-dimensional nature of the dataset, you can consider PCA (from sklearn.decomposition import PCA), or other methods. "
      ]
    },
    {
      "cell_type": "markdown",
      "source": [
        "> I will be using TruncatedSVD because PCA does not support sparse input. So TruncatedSVD is a possible alternative."
      ],
      "metadata": {
        "id": "mIdMt9aGttXV"
      }
    },
    {
      "cell_type": "markdown",
      "source": [
        "## Dimensionality Reduction"
      ],
      "metadata": {
        "id": "39qxWhKTu5jx"
      }
    },
    {
      "cell_type": "code",
      "execution_count": 23,
      "metadata": {
        "id": "TOXu5REObCI7"
      },
      "outputs": [],
      "source": [
        "svd = TruncatedSVD(n_components = 2)\n",
        "X = svd.fit_transform(result)"
      ]
    },
    {
      "cell_type": "markdown",
      "source": [
        "##KMeans With TruncatedSVD"
      ],
      "metadata": {
        "id": "FOqELpeFuLuA"
      }
    },
    {
      "cell_type": "code",
      "execution_count": 24,
      "metadata": {
        "colab": {
          "base_uri": "https://localhost:8080/"
        },
        "outputId": "58f1f728-63b3-4a97-9332-7bb77ce849e5",
        "id": "nAo3xMoYuLuA"
      },
      "outputs": [
        {
          "output_type": "execute_result",
          "data": {
            "text/plain": [
              "KMeans(init='random', n_clusters=5, tol=1.0)"
            ]
          },
          "metadata": {},
          "execution_count": 24
        }
      ],
      "source": [
        "#create Kmeans object with 5 clusters \n",
        "KM_SVD = KMeans(n_clusters = 5, init = 'random', n_init = 10, max_iter = 300, tol = 1e-0)\n",
        "KM_SVD.fit(X)"
      ]
    },
    {
      "cell_type": "code",
      "source": [
        "print('The lowest SSE value')\n",
        "print(KM_SVD.inertia_, '\\n=====================================================')\n",
        "# Final locations of the centroid\n",
        "print('Final locations of the centroid')\n",
        "print(KM_SVD.cluster_centers_, '\\n=====================================================')\n",
        "# The number of iterations required to converge\n",
        "print('The number of iterations required to converge')\n",
        "print(KM_SVD.n_iter_, '\\n=====================================================')\n",
        "# first five predicted labels\n",
        "print('first five predicted labels')\n",
        "print(KM_SVD.labels_[:5], '\\n=====================================================')"
      ],
      "metadata": {
        "colab": {
          "base_uri": "https://localhost:8080/"
        },
        "outputId": "11f9b21c-577e-48c4-f7a8-adb5f2adbd5f",
        "id": "B8qq4OOUuLuB"
      },
      "execution_count": 25,
      "outputs": [
        {
          "output_type": "stream",
          "name": "stdout",
          "text": [
            "The lowest SSE value\n",
            "7.338732726826995 \n",
            "=====================================================\n",
            "Final locations of the centroid\n",
            "[[ 0.18441166  0.15826148]\n",
            " [ 0.21060284 -0.17379956]\n",
            " [ 0.13360264 -0.04653163]\n",
            " [ 0.0359503   0.00947854]\n",
            " [ 0.1066288   0.06552552]] \n",
            "=====================================================\n",
            "The number of iterations required to converge\n",
            "1 \n",
            "=====================================================\n",
            "first five predicted labels\n",
            "[2 3 1 4 3] \n",
            "=====================================================\n"
          ]
        }
      ]
    },
    {
      "cell_type": "code",
      "source": [
        "print(\"Homogeneity: %0.3f\" % metrics.homogeneity_score(df['Target'], KM_SVD.labels_), '\\n=====================================================')\n",
        "print(\"Completeness: %0.3f\" % metrics.completeness_score(df['Target'], KM_SVD.labels_), '\\n=====================================================')\n",
        "print(\"V-measure: %0.3f\" % metrics.v_measure_score(df['Target'], KM_SVD.labels_), '\\n=====================================================')\n",
        "print(\"Adjusted Rand-Index: %.3f\" % metrics.adjusted_rand_score(df['Target'], KM_SVD.labels_), '\\n=====================================================')\n",
        "print(\"Silhouette Coefficient: %0.3f\" % metrics.silhouette_score(result, KM_SVD.labels_, sample_size=1000), '\\n=====================================================')\n",
        "print(\"mutual_info_score: %0.3f\" % metrics.mutual_info_score(df['Target'], KM_SVD.labels_), '\\n=====================================================')"
      ],
      "metadata": {
        "colab": {
          "base_uri": "https://localhost:8080/"
        },
        "outputId": "c9791e65-0a5e-46c0-f2d7-5318fb806df5",
        "id": "biFS3q3kuLuB"
      },
      "execution_count": 26,
      "outputs": [
        {
          "output_type": "stream",
          "name": "stdout",
          "text": [
            "Homogeneity: 0.286 \n",
            "=====================================================\n",
            "Completeness: 0.291 \n",
            "=====================================================\n",
            "V-measure: 0.288 \n",
            "=====================================================\n",
            "Adjusted Rand-Index: 0.186 \n",
            "=====================================================\n",
            "Silhouette Coefficient: -0.010 \n",
            "=====================================================\n",
            "mutual_info_score: 0.459 \n",
            "=====================================================\n"
          ]
        }
      ]
    },
    {
      "cell_type": "markdown",
      "source": [
        "##KMeans++ With TruncatedSVD"
      ],
      "metadata": {
        "id": "zu-04kWtu3By"
      }
    },
    {
      "cell_type": "code",
      "execution_count": 27,
      "metadata": {
        "colab": {
          "base_uri": "https://localhost:8080/"
        },
        "outputId": "fe65173a-831b-469f-e1d9-dca0799349f8",
        "id": "CkHmkhw7uLuB"
      },
      "outputs": [
        {
          "output_type": "execute_result",
          "data": {
            "text/plain": [
              "KMeans(n_clusters=5, tol=1.0)"
            ]
          },
          "metadata": {},
          "execution_count": 27
        }
      ],
      "source": [
        "#create Kmeans++ object with 5 clusters \n",
        "KM_plus_SVD = KMeans(n_clusters = 5, init = 'k-means++', n_init = 10, max_iter = 300, tol = 1e-0)\n",
        "KM_plus_SVD.fit(X)"
      ]
    },
    {
      "cell_type": "code",
      "source": [
        "print('The lowest SSE value')\n",
        "print(KM_plus_SVD.inertia_, '\\n=====================================================')\n",
        "# Final locations of the centroid\n",
        "print('Final locations of the centroid')\n",
        "print(KM_plus_SVD.cluster_centers_, '\\n=====================================================')\n",
        "# The number of iterations required to converge\n",
        "print('The number of iterations required to converge')\n",
        "print(KM_plus_SVD.n_iter_, '\\n=====================================================')\n",
        "# first five predicted labels\n",
        "print('first five predicted labels')\n",
        "print(KM_plus_SVD.labels_[:5], '\\n=====================================================')"
      ],
      "metadata": {
        "colab": {
          "base_uri": "https://localhost:8080/"
        },
        "outputId": "ebc6500e-e3b9-4d58-9240-4613e093081e",
        "id": "-dWgphrluLuB"
      },
      "execution_count": 28,
      "outputs": [
        {
          "output_type": "stream",
          "name": "stdout",
          "text": [
            "The lowest SSE value\n",
            "6.94543057045887 \n",
            "=====================================================\n",
            "Final locations of the centroid\n",
            "[[ 0.21696723 -0.18010944]\n",
            " [ 0.05631112  0.0156565 ]\n",
            " [ 0.20193507  0.17034074]\n",
            " [ 0.12965544  0.07690686]\n",
            " [ 0.14016978 -0.07315939]] \n",
            "=====================================================\n",
            "The number of iterations required to converge\n",
            "1 \n",
            "=====================================================\n",
            "first five predicted labels\n",
            "[4 1 0 3 1] \n",
            "=====================================================\n"
          ]
        }
      ]
    },
    {
      "cell_type": "code",
      "source": [
        "print(\"Homogeneity: %0.3f\" % metrics.homogeneity_score(df['Target'], KM_plus_SVD.labels_), '\\n=====================================================')\n",
        "print(\"Completeness: %0.3f\" % metrics.completeness_score(df['Target'], KM_plus_SVD.labels_), '\\n=====================================================')\n",
        "print(\"V-measure: %0.3f\" % metrics.v_measure_score(df['Target'], KM_plus_SVD.labels_), '\\n=====================================================')\n",
        "print(\"Adjusted Rand-Index: %.3f\" % metrics.adjusted_rand_score(df['Target'], KM_plus_SVD.labels_), '\\n=====================================================')\n",
        "print(\"Silhouette Coefficient: %0.3f\" % metrics.silhouette_score(result, KM_plus_SVD.labels_, sample_size=1000), '\\n=====================================================')\n",
        "print(\"mutual_info_score: %0.3f\" % metrics.mutual_info_score(df['Target'], KM_plus_SVD.labels_), '\\n=====================================================')"
      ],
      "metadata": {
        "colab": {
          "base_uri": "https://localhost:8080/"
        },
        "outputId": "6e40c1aa-9946-4e22-c59e-c09f605646af",
        "id": "KBzy7PR5uLuC"
      },
      "execution_count": 29,
      "outputs": [
        {
          "output_type": "stream",
          "name": "stdout",
          "text": [
            "Homogeneity: 0.281 \n",
            "=====================================================\n",
            "Completeness: 0.295 \n",
            "=====================================================\n",
            "V-measure: 0.288 \n",
            "=====================================================\n",
            "Adjusted Rand-Index: 0.165 \n",
            "=====================================================\n",
            "Silhouette Coefficient: 0.000 \n",
            "=====================================================\n",
            "mutual_info_score: 0.451 \n",
            "=====================================================\n"
          ]
        }
      ]
    },
    {
      "cell_type": "markdown",
      "metadata": {
        "id": "X6i2OhPDbCI7"
      },
      "source": [
        "#Task 6: compare the performance of the above four approaches on the given dataset using mutual information based scores: \n",
        "https://scikit-learn.org/stable/modules/generated/sklearn.metrics.mutual_info_score.html "
      ]
    },
    {
      "cell_type": "markdown",
      "source": [
        "> I will create a dictionary for each algorithm and its corresponding result"
      ],
      "metadata": {
        "id": "GkEALoE20V7G"
      }
    },
    {
      "cell_type": "code",
      "source": [
        "#Create a dictionary\n",
        "data = {'Kmean' : metrics.mutual_info_score(df['Target'], KM.labels_), 'Kmean++': metrics.mutual_info_score(df['Target'], KM_plus.labels_), \n",
        "        'Kmean SVD': metrics.mutual_info_score(df['Target'], KM_SVD.labels_), 'Kmean++ SVD': metrics.mutual_info_score(df['Target'], KM_plus_SVD.labels_)}\n",
        "\n",
        "#create a list from this dictionary keys and values\n",
        "algorithms = list(data.keys())\n",
        "score = list(data.values())"
      ],
      "metadata": {
        "id": "mesUnvk8vQPB"
      },
      "execution_count": 34,
      "outputs": []
    },
    {
      "cell_type": "code",
      "source": [
        "#convert the dictionary to data frame to see the scores in good way\n",
        "dat = pd.DataFrame.from_dict(data, orient='index').T\n",
        "dat"
      ],
      "metadata": {
        "colab": {
          "base_uri": "https://localhost:8080/",
          "height": 81
        },
        "id": "X5FuJf7hzAyC",
        "outputId": "3495a441-2116-42f7-c714-66ea8709f212"
      },
      "execution_count": 53,
      "outputs": [
        {
          "output_type": "execute_result",
          "data": {
            "text/plain": [
              "      Kmean   Kmean++  Kmean SVD  Kmean++ SVD\n",
              "0  0.633876  0.591723   0.458844     0.450875"
            ],
            "text/html": [
              "\n",
              "  <div id=\"df-26249d19-9ec5-44f7-9085-595e12342bc5\">\n",
              "    <div class=\"colab-df-container\">\n",
              "      <div>\n",
              "<style scoped>\n",
              "    .dataframe tbody tr th:only-of-type {\n",
              "        vertical-align: middle;\n",
              "    }\n",
              "\n",
              "    .dataframe tbody tr th {\n",
              "        vertical-align: top;\n",
              "    }\n",
              "\n",
              "    .dataframe thead th {\n",
              "        text-align: right;\n",
              "    }\n",
              "</style>\n",
              "<table border=\"1\" class=\"dataframe\">\n",
              "  <thead>\n",
              "    <tr style=\"text-align: right;\">\n",
              "      <th></th>\n",
              "      <th>Kmean</th>\n",
              "      <th>Kmean++</th>\n",
              "      <th>Kmean SVD</th>\n",
              "      <th>Kmean++ SVD</th>\n",
              "    </tr>\n",
              "  </thead>\n",
              "  <tbody>\n",
              "    <tr>\n",
              "      <th>0</th>\n",
              "      <td>0.633876</td>\n",
              "      <td>0.591723</td>\n",
              "      <td>0.458844</td>\n",
              "      <td>0.450875</td>\n",
              "    </tr>\n",
              "  </tbody>\n",
              "</table>\n",
              "</div>\n",
              "      <button class=\"colab-df-convert\" onclick=\"convertToInteractive('df-26249d19-9ec5-44f7-9085-595e12342bc5')\"\n",
              "              title=\"Convert this dataframe to an interactive table.\"\n",
              "              style=\"display:none;\">\n",
              "        \n",
              "  <svg xmlns=\"http://www.w3.org/2000/svg\" height=\"24px\"viewBox=\"0 0 24 24\"\n",
              "       width=\"24px\">\n",
              "    <path d=\"M0 0h24v24H0V0z\" fill=\"none\"/>\n",
              "    <path d=\"M18.56 5.44l.94 2.06.94-2.06 2.06-.94-2.06-.94-.94-2.06-.94 2.06-2.06.94zm-11 1L8.5 8.5l.94-2.06 2.06-.94-2.06-.94L8.5 2.5l-.94 2.06-2.06.94zm10 10l.94 2.06.94-2.06 2.06-.94-2.06-.94-.94-2.06-.94 2.06-2.06.94z\"/><path d=\"M17.41 7.96l-1.37-1.37c-.4-.4-.92-.59-1.43-.59-.52 0-1.04.2-1.43.59L10.3 9.45l-7.72 7.72c-.78.78-.78 2.05 0 2.83L4 21.41c.39.39.9.59 1.41.59.51 0 1.02-.2 1.41-.59l7.78-7.78 2.81-2.81c.8-.78.8-2.07 0-2.86zM5.41 20L4 18.59l7.72-7.72 1.47 1.35L5.41 20z\"/>\n",
              "  </svg>\n",
              "      </button>\n",
              "      \n",
              "  <style>\n",
              "    .colab-df-container {\n",
              "      display:flex;\n",
              "      flex-wrap:wrap;\n",
              "      gap: 12px;\n",
              "    }\n",
              "\n",
              "    .colab-df-convert {\n",
              "      background-color: #E8F0FE;\n",
              "      border: none;\n",
              "      border-radius: 50%;\n",
              "      cursor: pointer;\n",
              "      display: none;\n",
              "      fill: #1967D2;\n",
              "      height: 32px;\n",
              "      padding: 0 0 0 0;\n",
              "      width: 32px;\n",
              "    }\n",
              "\n",
              "    .colab-df-convert:hover {\n",
              "      background-color: #E2EBFA;\n",
              "      box-shadow: 0px 1px 2px rgba(60, 64, 67, 0.3), 0px 1px 3px 1px rgba(60, 64, 67, 0.15);\n",
              "      fill: #174EA6;\n",
              "    }\n",
              "\n",
              "    [theme=dark] .colab-df-convert {\n",
              "      background-color: #3B4455;\n",
              "      fill: #D2E3FC;\n",
              "    }\n",
              "\n",
              "    [theme=dark] .colab-df-convert:hover {\n",
              "      background-color: #434B5C;\n",
              "      box-shadow: 0px 1px 3px 1px rgba(0, 0, 0, 0.15);\n",
              "      filter: drop-shadow(0px 1px 2px rgba(0, 0, 0, 0.3));\n",
              "      fill: #FFFFFF;\n",
              "    }\n",
              "  </style>\n",
              "\n",
              "      <script>\n",
              "        const buttonEl =\n",
              "          document.querySelector('#df-26249d19-9ec5-44f7-9085-595e12342bc5 button.colab-df-convert');\n",
              "        buttonEl.style.display =\n",
              "          google.colab.kernel.accessAllowed ? 'block' : 'none';\n",
              "\n",
              "        async function convertToInteractive(key) {\n",
              "          const element = document.querySelector('#df-26249d19-9ec5-44f7-9085-595e12342bc5');\n",
              "          const dataTable =\n",
              "            await google.colab.kernel.invokeFunction('convertToInteractive',\n",
              "                                                     [key], {});\n",
              "          if (!dataTable) return;\n",
              "\n",
              "          const docLinkHtml = 'Like what you see? Visit the ' +\n",
              "            '<a target=\"_blank\" href=https://colab.research.google.com/notebooks/data_table.ipynb>data table notebook</a>'\n",
              "            + ' to learn more about interactive tables.';\n",
              "          element.innerHTML = '';\n",
              "          dataTable['output_type'] = 'display_data';\n",
              "          await google.colab.output.renderOutput(dataTable, element);\n",
              "          const docLink = document.createElement('div');\n",
              "          docLink.innerHTML = docLinkHtml;\n",
              "          element.appendChild(docLink);\n",
              "        }\n",
              "      </script>\n",
              "    </div>\n",
              "  </div>\n",
              "  "
            ]
          },
          "metadata": {},
          "execution_count": 53
        }
      ]
    },
    {
      "cell_type": "code",
      "source": [
        "#plot the result of each algorithm and its scores\n",
        "plt.figure(figsize=(15,8))\n",
        "sns.set(palette=\"muted\", color_codes=True)\n",
        "first_15 = sns.barplot(x=algorithms, y=score)\n",
        "plt.xticks( fontsize=14, fontweight='bold')\n",
        "plt.xlabel('Algorithms', fontsize=16, fontweight='bold')\n",
        "plt.yticks(rotation='0', fontsize=14, fontweight='bold')\n",
        "plt.ylabel('Score', rotation=0, ha='right', fontsize=14, fontweight='bold')\n",
        "\n",
        "for patch in first_15.patches:\n",
        "  first_15.annotate(\"%.3f\" % patch.get_height(), (patch.get_x() + patch.get_width() / 2., patch.get_height()), ha='center', va='center', fontsize=14, fontweight='bold', color='black', xytext=(0, 5), textcoords='offset points')\n",
        "plt.show()"
      ],
      "metadata": {
        "colab": {
          "base_uri": "https://localhost:8080/",
          "height": 508
        },
        "id": "kub-_SQnwet9",
        "outputId": "30d0119e-3115-47d7-bce0-6558a869d8af"
      },
      "execution_count": 54,
      "outputs": [
        {
          "output_type": "display_data",
          "data": {
            "text/plain": [
              "<Figure size 1080x576 with 1 Axes>"
            ],
            "image/png": "[encoded data removed]"
          },
          "metadata": {}
        }
      ]
    },
    {
      "cell_type": "code",
      "source": [
        "plt.figure(figsize=(10,8))\n",
        "plt.pie(score, labels=algorithms, autopct='%1.1f%%', shadow=True, startangle=160)\n",
        "plt.axis('equal')\n",
        "plt.show()"
      ],
      "metadata": {
        "colab": {
          "base_uri": "https://localhost:8080/",
          "height": 466
        },
        "id": "dQ7lTpnmxYEp",
        "outputId": "8cb19ab8-b4bd-4ea9-cf9f-c8c0a9fc0fcd"
      },
      "execution_count": 55,
      "outputs": [
        {
          "output_type": "display_data",
          "data": {
            "text/plain": [
              "<Figure size 720x576 with 1 Axes>"
            ],
            "image/png": "[encoded data removed]"
          },
          "metadata": {}
        }
      ]
    },
    {
      "cell_type": "markdown",
      "source": [
        "> As we can see, The best model was `Kmean` without dimensionality reduction\n",
        "\n",
        "> Which give us score = `0.634`"
      ],
      "metadata": {
        "id": "NNXqTBh94YEH"
      }
    },
    {
      "cell_type": "markdown",
      "source": [
        "#Using Elbow to see best `K`"
      ],
      "metadata": {
        "id": "MoON5zBO0IUk"
      }
    },
    {
      "cell_type": "markdown",
      "source": [
        "> I using this method now to see if i used good `k` or not.\n",
        "\n",
        "> And to see if I'm going to rebuild all these models with the new `k` or not, if there is a new `k`"
      ],
      "metadata": {
        "id": "DPbBCCI31nNM"
      }
    },
    {
      "cell_type": "code",
      "source": [
        "# calculate distortion for a range of number of cluster\n",
        "distortions = []\n",
        "for i in range(1, 11):\n",
        "    km = KMeans(\n",
        "        n_clusters=i, init='random',\n",
        "        n_init=10, max_iter=300,\n",
        "        tol=1e-04\n",
        "    )\n",
        "    km.fit(X)\n",
        "    distortions.append(km.inertia_)\n",
        "\n",
        "# plot\n",
        "plt.figure(figsize=(10,8))\n",
        "plt.plot(range(1, 11), distortions, marker='o')\n",
        "plt.xlabel('Number of clusters')\n",
        "plt.ylabel('Distortion')\n",
        "plt.show()"
      ],
      "metadata": {
        "colab": {
          "base_uri": "https://localhost:8080/",
          "height": 0
        },
        "id": "536v_KXrziXY",
        "outputId": "675ea288-62a2-4cd8-e638-8a11b87b2c98"
      },
      "execution_count": 58,
      "outputs": [
        {
          "output_type": "display_data",
          "data": {
            "text/plain": [
              "<Figure size 720x576 with 1 Axes>"
            ],
            "image/png": "[encoded data removed]"
          },
          "metadata": {}
        }
      ]
    },
    {
      "cell_type": "markdown",
      "source": [
        "> As we can see, The best `K` is `[5, 6]` look like what I selected so what i selected was good"
      ],
      "metadata": {
        "id": "YCq_NbtnzzJF"
      }
    },
    {
      "cell_type": "markdown",
      "source": [
        "#References\n",
        "\n",
        "\n",
        "\n",
        "> [Ref.](https://dzone.com/articles/kmeans-silhouette-score-explained-with-python-exam)\n",
        "\n",
        "> [Ref.](https://scikit-learn.org/stable/auto_examples/text/plot_document_clustering.html)\n",
        "\n",
        "> [Ref.](https://scikit-learn.org/stable/auto_examples/cluster/plot_adjusted_for_chance_measures.html#sphx-glr-auto-examples-cluster-plot-adjusted-for-chance-measures-py)\n",
        "\n",
        "> [Ref.](https://kavita-ganesan.com/tfidftransformer-tfidfvectorizer-usage-differences/#.Yn6M2ehBxPZ)\n",
        "\n",
        "> [Ref.](https://towardsdatascience.com/k-means-clustering-with-scikit-learn-6b47a369a83c)\n",
        "\n",
        "> [Ref.](https://towardsdatascience.com/topic-modeling-with-latent-semantic-analysis-58aeab6ab2f2)\n"
      ],
      "metadata": {
        "id": "NKtTSpY721kH"
      }
    }
  ],
  "metadata": {
    "language_info": {
      "name": "python"
    },
    "orig_nbformat": 4,
    "colab": {
      "name": "Ahmed_Mohamed_Gaber_21AMGA_lab3_DA.ipynb",
      "provenance": [],
      "collapsed_sections": [
        "WEaO_3UgcxeJ",
        "whRhGQphbCI5",
        "SBugdsUgdsOx",
        "7_eVKTgveChV",
        "bNj_1grMbCI5",
        "eZp1Kcw_bCI6",
        "q9lY1pvPbCI6",
        "lTWRRz3U1P0P",
        "nPil71DUIOZt",
        "s4OR_XcDbCI7",
        "39qxWhKTu5jx",
        "FOqELpeFuLuA",
        "zu-04kWtu3By",
        "X6i2OhPDbCI7",
        "MoON5zBO0IUk"
      ]
    },
    "kernelspec": {
      "name": "python3",
      "display_name": "Python 3"
    }
  },
  "nbformat": 4,
  "nbformat_minor": 0
}